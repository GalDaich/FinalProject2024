import pandas as pd
import numpy as np
# TravelPlans collection cleaning begins here
file_path = 'ENTER_FILE_PATH'
TravelPlans_df = pd.read_csv(file_path, dtype={'phoneNumber': str})
TravelPlans_df.head(10)
def age_in_range(row):
    age = row['currentAge']
    age_range = row['agesToMatchWith']
    if '+' in age_range:
        min_age = int(age_range.replace('+', ''))
        return age >= min_age
    else:
        min_age, max_age = map(int, age_range.split('-'))
        return min_age <= age <= max_age
# df cleaning complete and new filtered df created
filtered_TravelPlans_df = TravelPlans_df[TravelPlans_df.apply(age_in_range, axis=1)]
filtered_TravelPlans_df.head(5)
# Users collection cleaning begins here
second_file_path = 'ENTER_FILE_PATH'
Users_df = pd.read_csv(second_file_path, dtype={'phoneNumber': str})
Users_df.head(10)
def filter_users(Users_df, filtered_TravelPlans_df):
    user_ids = filtered_TravelPlans_df['personId'].unique()
    filtered_Users_df = Users_df[Users_df['_id'].isin(user_ids)]
    return filtered_Users_df
# df cleaning complete and new filtered df created
filtered_Users_df = filter_users(Users_df, filtered_TravelPlans_df)
filtered_Users_df.head(5)
filtered_TravelPlans_df.count()
filtered_Users_df.count()
# ALWAYS CHANGE THE PATHS
path_to_save_plans = 'ENTER_FILE_PATH'
path_to_save_users = 'ENTER_FILE_PATH'
filtered_Users_df.to_csv(path_to_save_users, index=False)
filtered_TravelPlans_df.to_csv(path_to_save_plans, index=False)
