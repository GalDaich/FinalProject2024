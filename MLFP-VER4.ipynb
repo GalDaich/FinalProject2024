{
 "cells": [
  {
   "cell_type": "code",
   "execution_count": 2,
   "id": "a123af3b-967f-456c-b7b2-af79eb5a7816",
   "metadata": {
    "jupyter": {
     "source_hidden": true
    }
   },
   "outputs": [],
   "source": [
    "import pandas as pd\n",
    "import numpy as np\n",
    "from kmodes.kmodes import KModes\n",
    "from sklearn.metrics import silhouette_score"
   ]
  },
  {
   "cell_type": "code",
   "execution_count": 3,
   "id": "55a2b342-c932-434b-98d8-b9a891716155",
   "metadata": {},
   "outputs": [],
   "source": [
    "#import our dataset\n",
    "df = pd.read_csv(r'C:\\Users\\Keshet\\programmingyear3\\final project\\MLFP20000PPLFILTERED.csv', index_col = '_id')\n",
    "\n",
    "#standardizing the df column names to lower and removing spaces to work comfortably\n",
    "df.columns = df.columns.str.replace(' ', '').str.lower()\n",
    "\n",
    "#adding the zero back to the phone number that was dropped\n",
    "df['phonenumber'] = '0' + df['phonenumber'].astype(str)"
   ]
  },
  {
   "cell_type": "code",
   "execution_count": 4,
   "id": "27a9ddbb-1f21-4a47-a8f5-9c5be3df4b1f",
   "metadata": {},
   "outputs": [],
   "source": [
    "#dropping data rows that miss any values\n",
    "df.dropna(inplace=True)"
   ]
  },
  {
   "cell_type": "code",
   "execution_count": 5,
   "id": "1306cdec-a0a9-4e76-b3d2-08873ff46afb",
   "metadata": {
    "scrolled": true
   },
   "outputs": [
    {
     "data": {
      "text/html": [
       "<div>\n",
       "<style scoped>\n",
       "    .dataframe tbody tr th:only-of-type {\n",
       "        vertical-align: middle;\n",
       "    }\n",
       "\n",
       "    .dataframe tbody tr th {\n",
       "        vertical-align: top;\n",
       "    }\n",
       "\n",
       "    .dataframe thead th {\n",
       "        text-align: right;\n",
       "    }\n",
       "</style>\n",
       "<table border=\"1\" class=\"dataframe\">\n",
       "  <thead>\n",
       "    <tr style=\"text-align: right;\">\n",
       "      <th></th>\n",
       "      <th>wantstotravelto</th>\n",
       "      <th>isspontanious</th>\n",
       "      <th>wantstoleaveon</th>\n",
       "    </tr>\n",
       "    <tr>\n",
       "      <th>_id</th>\n",
       "      <th></th>\n",
       "      <th></th>\n",
       "      <th></th>\n",
       "    </tr>\n",
       "  </thead>\n",
       "  <tbody>\n",
       "    <tr>\n",
       "      <th>66472652705d24319dfd51ee</th>\n",
       "      <td>Central Asia - For example, Kazakhstan, Uzbeki...</td>\n",
       "      <td>No</td>\n",
       "      <td>February</td>\n",
       "    </tr>\n",
       "    <tr>\n",
       "      <th>66472652705d24319dfd51f6</th>\n",
       "      <td>Southern Europe - For example, Italy, Spain, G...</td>\n",
       "      <td>Yes</td>\n",
       "      <td>August</td>\n",
       "    </tr>\n",
       "    <tr>\n",
       "      <th>66472652705d24319dfd51fd</th>\n",
       "      <td>Central Asia - For example, Kazakhstan, Uzbeki...</td>\n",
       "      <td>Yes</td>\n",
       "      <td>April</td>\n",
       "    </tr>\n",
       "    <tr>\n",
       "      <th>66472652705d24319dfd5201</th>\n",
       "      <td>Eastern Europe - For example, Russia, Poland, ...</td>\n",
       "      <td>Yes</td>\n",
       "      <td>May</td>\n",
       "    </tr>\n",
       "    <tr>\n",
       "      <th>66472652705d24319dfd5205</th>\n",
       "      <td>Southern Europe - For example, Italy, Spain, G...</td>\n",
       "      <td>Yes</td>\n",
       "      <td>March</td>\n",
       "    </tr>\n",
       "  </tbody>\n",
       "</table>\n",
       "</div>"
      ],
      "text/plain": [
       "                                                            wantstotravelto  \\\n",
       "_id                                                                           \n",
       "66472652705d24319dfd51ee  Central Asia - For example, Kazakhstan, Uzbeki...   \n",
       "66472652705d24319dfd51f6  Southern Europe - For example, Italy, Spain, G...   \n",
       "66472652705d24319dfd51fd  Central Asia - For example, Kazakhstan, Uzbeki...   \n",
       "66472652705d24319dfd5201  Eastern Europe - For example, Russia, Poland, ...   \n",
       "66472652705d24319dfd5205  Southern Europe - For example, Italy, Spain, G...   \n",
       "\n",
       "                         isspontanious wantstoleaveon  \n",
       "_id                                                    \n",
       "66472652705d24319dfd51ee            No       February  \n",
       "66472652705d24319dfd51f6           Yes         August  \n",
       "66472652705d24319dfd51fd           Yes          April  \n",
       "66472652705d24319dfd5201           Yes            May  \n",
       "66472652705d24319dfd5205           Yes          March  "
      ]
     },
     "execution_count": 5,
     "metadata": {},
     "output_type": "execute_result"
    }
   ],
   "source": [
    "#creating a df that only contains the columns relevant for kmodes clustering\n",
    "clustering_columns = ['wantstotravelto', 'isspontanious', 'wantstoleaveon']\n",
    "df_cluster = df[clustering_columns]\n",
    "df_cluster.head()"
   ]
  },
  {
   "cell_type": "code",
   "execution_count": 6,
   "id": "7f120282-cbcd-4e23-9b5f-c3d3ffd0d2ce",
   "metadata": {},
   "outputs": [
    {
     "name": "stdout",
     "output_type": "stream",
     "text": [
      "(20218, 18)\n"
     ]
    }
   ],
   "source": [
    "print(df.shape)"
   ]
  },
  {
   "cell_type": "code",
   "execution_count": 7,
   "id": "5bb0e1f1-7c7d-419b-8ba6-b4995663c202",
   "metadata": {},
   "outputs": [],
   "source": [
    "# Function to perform K-Modes clustering\n",
    "def cluster_data(df_cluster, n_clusters):\n",
    "    km = KModes(n_clusters=n_clusters, init='Huang', n_init=20, verbose=1)\n",
    "    clusters = km.fit_predict(df_cluster)\n",
    "    return clusters, km"
   ]
  },
  {
   "cell_type": "code",
   "execution_count": 8,
   "id": "7e35ca50-620f-47c6-b011-d5e8cfaeab61",
   "metadata": {},
   "outputs": [],
   "source": [
    "def merge_small_clusters(df, cluster_column='cluster'):\n",
    "    cluster_sizes = df[cluster_column].value_counts()\n",
    "    too_small = cluster_sizes[cluster_sizes < 10].index.tolist()\n",
    "    if not too_small:\n",
    "        return df  # No small clusters to merge\n",
    "    for cluster in too_small:\n",
    "        cluster_data = df[df[cluster_column] == cluster]\n",
    "        if not cluster_data.empty:\n",
    "            cluster_modes = cluster_data.mode().iloc[0]\n",
    "            distances = []\n",
    "            for target_cluster in cluster_sizes[cluster_sizes >= 10].index:\n",
    "                target_data = df[df[cluster_column] == target_cluster]\n",
    "                target_modes = target_data.mode().iloc[0]\n",
    "                distance = (cluster_modes != target_modes).sum()\n",
    "                distances.append((distance, target_cluster))\n",
    "            if distances:\n",
    "                nearest_cluster = min(distances, key=lambda x: x[0])[1]\n",
    "                df.loc[df[cluster_column] == cluster, cluster_column] = nearest_cluster\n",
    "    return df"
   ]
  },
  {
   "cell_type": "code",
   "execution_count": 9,
   "id": "587a69a5-7cfd-4b6b-af10-1743c0174e12",
   "metadata": {},
   "outputs": [],
   "source": [
    "# Define the maximum desired size of any cluster\n",
    "max_size = 60"
   ]
  },
  {
   "cell_type": "code",
   "execution_count": 10,
   "id": "fd46eca5-2347-4968-aa61-1162a9bcf21c",
   "metadata": {},
   "outputs": [],
   "source": [
    "def split_large_clusters(df, max_size, cluster_column='cluster', clustering_columns=None):\n",
    "    cluster_sizes = df[cluster_column].value_counts()\n",
    "    too_large = cluster_sizes[cluster_sizes > max_size].index.tolist()\n",
    "    if not too_large:\n",
    "        return df  # No large clusters to split\n",
    "    for cluster in too_large:\n",
    "        cluster_data = df[df[cluster_column] == cluster]\n",
    "        # Increase the number of sub-clusters to ensure smaller cluster sizes\n",
    "        num_sub_clusters = int(np.ceil(len(cluster_data) / (max_size * 0.75)))\n",
    "        if num_sub_clusters > 1:\n",
    "            sub_k = KModes(n_clusters=num_sub_clusters, init='Huang', n_init=5, verbose=1)\n",
    "            sub_clusters = sub_k.fit_predict(cluster_data[clustering_columns])\n",
    "            new_labels = [f\"{cluster}_{i}\" for i in range(num_sub_clusters)]\n",
    "            label_mapping = {i: new_labels[i] for i in range(len(new_labels))}\n",
    "            df.loc[cluster_data.index, cluster_column] = [label_mapping[x] for x in sub_clusters]\n",
    "    return df"
   ]
  },
  {
   "cell_type": "code",
   "execution_count": 11,
   "id": "3ab55b0f-b4f3-479d-a28a-d90428726704",
   "metadata": {},
   "outputs": [],
   "source": [
    "def verify_clusters(df, cluster_column='cluster'):\n",
    "    if df[cluster_column].isnull().any():\n",
    "        print(\"There are unclustered rows.\")\n",
    "    else:\n",
    "        print(\"All rows are clustered.\")"
   ]
  },
  {
   "cell_type": "code",
   "execution_count": 12,
   "id": "7b27ac5f-f82e-47e2-afe3-108fd6d4c03d",
   "metadata": {},
   "outputs": [],
   "source": [
    "# Initial estimate of k\n",
    "k = 200"
   ]
  },
  {
   "cell_type": "code",
   "execution_count": null,
   "id": "f8527e54-4a19-4cdc-8ba3-1609b9a9c860",
   "metadata": {},
   "outputs": [
    {
     "name": "stdout",
     "output_type": "stream",
     "text": [
      "Init: initializing centroids\n",
      "Init: initializing clusters\n",
      "Starting iterations...\n",
      "Run 1, iteration: 1/100, moves: 1508, cost: 9397.0\n",
      "Run 1, iteration: 2/100, moves: 321, cost: 9397.0\n",
      "Init: initializing centroids\n",
      "Init: initializing clusters\n",
      "Starting iterations...\n",
      "Run 2, iteration: 1/100, moves: 1578, cost: 9426.0\n",
      "Run 2, iteration: 2/100, moves: 134, cost: 9407.0\n",
      "Run 2, iteration: 3/100, moves: 148, cost: 9407.0\n",
      "Init: initializing centroids\n",
      "Init: initializing clusters\n",
      "Starting iterations...\n",
      "Run 3, iteration: 1/100, moves: 1500, cost: 9456.0\n",
      "Run 3, iteration: 2/100, moves: 193, cost: 9450.0\n",
      "Run 3, iteration: 3/100, moves: 36, cost: 9450.0\n",
      "Init: initializing centroids\n",
      "Init: initializing clusters\n",
      "Starting iterations...\n",
      "Run 4, iteration: 1/100, moves: 1285, cost: 9445.0\n",
      "Run 4, iteration: 2/100, moves: 576, cost: 9430.0\n",
      "Run 4, iteration: 3/100, moves: 87, cost: 9430.0\n",
      "Init: initializing centroids\n",
      "Init: initializing clusters\n",
      "Starting iterations...\n"
     ]
    }
   ],
   "source": [
    "# Initial clustering\n",
    "clusters, km = cluster_data(df_cluster, k)\n",
    "df['cluster'] = clusters"
   ]
  },
  {
   "cell_type": "code",
   "execution_count": null,
   "id": "d1fc066a-811c-4207-86f2-938dfe4b9265",
   "metadata": {},
   "outputs": [],
   "source": [
    "# Assuming df_cluster contains your categorical columns\n",
    "df_encoded = pd.get_dummies(df_cluster)"
   ]
  },
  {
   "cell_type": "code",
   "execution_count": null,
   "id": "197f95ac-1df7-422b-96f6-02e8e1891f74",
   "metadata": {},
   "outputs": [],
   "source": [
    "# Ensure 'clusters' contains the cluster labels obtained from K-modes clustering of the original data\n",
    "score = silhouette_score(df_encoded, clusters, metric='euclidean')  # Using 'euclidean' as all data is now binary\n",
    "print(\"Silhouette Score: \", score)"
   ]
  },
  {
   "cell_type": "code",
   "execution_count": null,
   "id": "2754ddf6-139b-4402-a86d-2449b51f6455",
   "metadata": {},
   "outputs": [],
   "source": [
    "# First pass: Iterative merging and splitting\n",
    "iteration_limit = 50\n",
    "for iteration in range(iteration_limit):\n",
    "    old_cluster_count = df['cluster'].nunique()\n",
    "    df = merge_small_clusters(df, 'cluster')\n",
    "    df = split_large_clusters(df, 60, 'cluster', clustering_columns)\n",
    "    new_cluster_count = df['cluster'].nunique()\n",
    "    if old_cluster_count == new_cluster_count:\n",
    "        break  # Stop if no changes in number of clusters"
   ]
  },
  {
   "cell_type": "code",
   "execution_count": null,
   "id": "01dbdda2-bbf2-4b20-a053-26ad7147f80e",
   "metadata": {},
   "outputs": [],
   "source": [
    "# Apply additional splitting specifically for clusters still too large\n",
    "additional_rounds = 5  # Number of additional rounds to attempt\n",
    "for _ in range(additional_rounds):\n",
    "    large_clusters = df['cluster'].value_counts()\n",
    "    large_clusters = large_clusters[large_clusters > max_size].index.tolist()\n",
    "    if not large_clusters:\n",
    "        break  # Exit loop if no large clusters remain\n",
    "    df = split_large_clusters(df, 60, 'cluster', clustering_columns)"
   ]
  },
  {
   "cell_type": "code",
   "execution_count": null,
   "id": "714fabb9-0c51-4059-ade5-c6028d866c43",
   "metadata": {},
   "outputs": [],
   "source": [
    "verify_clusters(df)"
   ]
  },
  {
   "cell_type": "code",
   "execution_count": null,
   "id": "99666716-b3d6-4116-ac9e-a6ef29566d65",
   "metadata": {},
   "outputs": [],
   "source": [
    "# Save the results\n",
    "df.to_csv('clustered_data.csv', index=False)"
   ]
  },
  {
   "cell_type": "code",
   "execution_count": null,
   "id": "64f37af4-b632-40e2-92e7-9d8a09363c7a",
   "metadata": {},
   "outputs": [],
   "source": [
    "# Set display options\n",
    "pd.set_option('display.max_rows', None) \n",
    "\n",
    "# Assuming 'df' is your DataFrame\n",
    "print(df['cluster'].value_counts())"
   ]
  },
  {
   "cell_type": "code",
   "execution_count": null,
   "id": "0ca79452-2931-467c-b029-62944c0502a5",
   "metadata": {},
   "outputs": [],
   "source": [
    "# Print the total number of unique clusters\n",
    "total_clusters = df['cluster'].nunique()\n",
    "print(\"Total number of clusters:\", total_clusters)"
   ]
  },
  {
   "cell_type": "code",
   "execution_count": null,
   "id": "982ae304-8021-4ecd-8292-938b73ae0e6b",
   "metadata": {},
   "outputs": [],
   "source": [
    "# Specify the cluster label you want to view\n",
    "cluster_label_to_view = 57\n",
    "\n",
    "# Filter the DataFrame to only include rows from the specified cluster\n",
    "specific_cluster = df[df['cluster'] == cluster_label_to_view]\n",
    "\n",
    "# Display the records from the specified cluster\n",
    "display(specific_cluster)\n"
   ]
  },
  {
   "cell_type": "code",
   "execution_count": null,
   "id": "81f670aa-9658-4e27-b5fa-115076297a29",
   "metadata": {},
   "outputs": [],
   "source": []
  }
 ],
 "metadata": {
  "kernelspec": {
   "display_name": "Python 3 (ipykernel)",
   "language": "python",
   "name": "python3"
  },
  "language_info": {
   "codemirror_mode": {
    "name": "ipython",
    "version": 3
   },
   "file_extension": ".py",
   "mimetype": "text/x-python",
   "name": "python",
   "nbconvert_exporter": "python",
   "pygments_lexer": "ipython3",
   "version": "3.11.7"
  }
 },
 "nbformat": 4,
 "nbformat_minor": 5
}
